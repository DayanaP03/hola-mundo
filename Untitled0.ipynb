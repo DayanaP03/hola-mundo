{
  "nbformat": 4,
  "nbformat_minor": 0,
  "metadata": {
    "colab": {
      "provenance": [],
      "authorship_tag": "ABX9TyMeM6ew2nCa4c9ByYHflC2S",
      "include_colab_link": true
    },
    "kernelspec": {
      "name": "python3",
      "display_name": "Python 3"
    },
    "language_info": {
      "name": "python"
    }
  },
  "cells": [
    {
      "cell_type": "markdown",
      "metadata": {
        "id": "view-in-github",
        "colab_type": "text"
      },
      "source": [
        "<a href=\"https://colab.research.google.com/github/DayanaP03/hola-mundo/blob/main/Untitled0.ipynb\" target=\"_parent\"><img src=\"https://colab.research.google.com/assets/colab-badge.svg\" alt=\"Open In Colab\"/></a>"
      ]
    },
    {
      "cell_type": "markdown",
      "source": [
        "# VENDER GALLETAS\n",
        "****************************************************************************\n",
        "El juego en una tienda, mostrando el inventario disponible con los tipos de galletas, cantidades y precios, y permitiendo realizar ventas de productos reduciendo el stock correspondiente. Además, mantiene un registro de las ventas realizadas, mostrando el total acumulado. El usuario puede interactuar con el sistema para consultar el inventario, registrar ventas o consultar el total de ingresos."
      ],
      "metadata": {
        "id": "cNdVew-kc3gE"
      }
    },
    {
      "cell_type": "code",
      "source": [
        "class TiendaDeGalletas:\n",
        "    def __init__(self):\n",
        "        self.inventario = {\n",
        "            'Galleta de chocolate': {'cantidad': 100, 'precio': 1.5},\n",
        "            'Galleta de vainilla': {'cantidad': 80, 'precio': 1.2},\n",
        "            'Galleta de avena': {'cantidad': 50, 'precio': 2.0}\n",
        "        }\n",
        "        self.ventas = 0.0\n",
        "\n",
        "    def mostrar_inventario(self):\n",
        "        print(\"Inventario de Galletas:\")\n",
        "        for nombre, detalles in self.inventario.items():\n",
        "            print(f\"{nombre} - Cantidad: {detalles['cantidad']}, Precio: ${detalles['precio']}\")\n",
        "\n",
        "    def vender_galleta(self, nombre, cantidad):\n",
        "        if nombre in self.inventario:\n",
        "            if self.inventario[nombre]['cantidad'] >= cantidad:\n",
        "                total = self.inventario[nombre]['precio'] * cantidad\n",
        "                self.inventario[nombre]['cantidad'] -= cantidad\n",
        "                self.ventas += total\n",
        "                print(f\"Venta exitosa: {cantidad} {nombre} por ${total}\")\n",
        "            else:\n",
        "                print(\"No hay suficiente cantidad en el inventario.\")\n",
        "        else:\n",
        "            print(\"Ese tipo de galleta no está disponible.\")\n",
        "\n",
        "    def mostrar_ventas(self):\n",
        "        print(f\"Ventas totales: ${self.ventas}\")\n",
        "\n",
        "\n",
        "# Creando una instancia de la tienda de galletas\n",
        "tienda = TiendaDeGalletas()\n",
        "\n",
        "# Interacción con el usuario\n",
        "while True:\n",
        "    print(\"\\nBienvenido a la Tienda de Galletas\")\n",
        "    print(\"1. Mostrar inventario\")\n",
        "    print(\"2. Vender galletas\")\n",
        "    print(\"3. Ver ventas totales\")\n",
        "    print(\"4. Salir\")\n",
        "\n",
        "    opcion = input(\"Selecciona una opción (1/2/3/4): \")\n",
        "\n",
        "    if opcion == '1':\n",
        "        tienda.mostrar_inventario()\n",
        "    elif opcion == '2':\n",
        "        nombre = input(\"¿Qué tipo de galleta deseas vender? \")\n",
        "        cantidad = int(input(\"¿Cuántas galletas deseas vender? \"))\n",
        "        tienda.vender_galleta(nombre, cantidad)\n",
        "    elif opcion == '3':\n",
        "        tienda.mostrar_ventas()\n",
        "    elif opcion == '4':\n",
        "        print(\"Gracias por usar el sistema de venta de galletas. ¡Hasta luego!\")\n",
        "        break\n",
        "    else:\n",
        "        print(\"Opción no válida. Intenta de nuevo.\")\n"
      ],
      "metadata": {
        "id": "jxYlMBVMc0Wg"
      },
      "execution_count": null,
      "outputs": []
    },
    {
      "cell_type": "markdown",
      "source": [
        "#ADIVINA QUIEN SOY\n",
        "************************************************************************\n",
        "El juego presenta pistas aleatorias sobre características como el color de cabello, tono de piel, ropa y lenguaje, y el jugador debe responder correctamente si la persona descrita es de uno u otro tipo. El programa luego verifica la respuesta y muestra si el jugador adivinó correctamente o no.\n",
        "\n",
        "\n",
        "\n"
      ],
      "metadata": {
        "id": "7WFGbtwcdltk"
      }
    },
    {
      "cell_type": "code",
      "source": [
        "import random\n",
        "\n",
        "# Características posibles de una chica churollana o mestiza\n",
        "personajes = {\n",
        "    \"Churollana\": {\n",
        "        \"caracteristicas\": [\n",
        "            \"Tiene cabello largo y oscuro.\",\n",
        "            \"Su piel es morena clara.\",\n",
        "            \"Su rostro es ovalado con rasgos indígenas.\",\n",
        "            \"Suele usar ropa tradicional mezclada con ropa moderna.\",\n",
        "            \"Habla un dialecto indígena junto con español.\"\n",
        "        ],\n",
        "        \"respuesta_correcta\": \"Churollana\"\n",
        "    },\n",
        "    \"Mestiza\": {\n",
        "        \"caracteristicas\": [\n",
        "            \"Tiene cabello castaño claro y ondulado.\",\n",
        "            \"Su piel es morena o bronceada.\",\n",
        "            \"Rostro con rasgos mezclados de diferentes etnias.\",\n",
        "            \"Suele llevar ropa moderna, a veces influenciada por tendencias globales.\",\n",
        "            \"Habla español como lengua principal.\"\n",
        "        ],\n",
        "        \"respuesta_correcta\": \"Mestiza\"\n",
        "    }\n",
        "}\n",
        "\n",
        "# Función para jugar al 'Adivina quién soy'\n",
        "def jugar():\n",
        "    print(\"¡Bienvenido al juego de 'Adivina quién soy'!\")\n",
        "    print(\"Te voy a dar algunas pistas sobre una chica y tienes que adivinar si es churollana o mestiza.\")\n",
        "\n",
        "    # Seleccionar un personaje aleatorio\n",
        "    personaje = random.choice(list(personajes.values()))\n",
        "\n",
        "    # Mostrar las características\n",
        "    print(\"\\nAquí están las pistas:\")\n",
        "    for pista in personaje[\"caracteristicas\"]:\n",
        "        print(f\"- {pista}\")\n",
        "\n",
        "    # El usuario tiene que adivinar\n",
        "    adivinanza = input(\"\\n¿Adivinas quién soy? (Churollana / Mestiza): \").strip().capitalize()\n",
        "\n",
        "    # Comprobar la respuesta\n",
        "    if adivinanza == personaje[\"respuesta_correcta\"]:\n",
        "        print(\"¡Correcto! Has adivinado bien.\")\n",
        "    else:\n",
        "        print(f\"¡Incorrecto! La respuesta correcta era {personaje['respuesta_correcta']}.\")\n",
        "\n",
        "# Iniciar el juego\n",
        "jugar()\n"
      ],
      "metadata": {
        "id": "hIkWxv5qd1zJ"
      },
      "execution_count": null,
      "outputs": []
    }
  ]
}